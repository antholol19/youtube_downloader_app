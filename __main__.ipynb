{
 "cells": [
  {
   "cell_type": "code",
   "execution_count": 2,
   "id": "8bc15cb4",
   "metadata": {},
   "outputs": [
    {
     "name": "stdout",
     "output_type": "stream",
     "text": [
      " * Serving Flask app '__main__'\n",
      " * Debug mode: off\n"
     ]
    },
    {
     "name": "stderr",
     "output_type": "stream",
     "text": [
      "WARNING: This is a development server. Do not use it in a production deployment. Use a production WSGI server instead.\n",
      " * Running on http://127.0.0.1:5000\n",
      "Press CTRL+C to quit\n",
      "127.0.0.1 - - [10/Mar/2023 12:17:08] \"GET / HTTP/1.1\" 200 -\n",
      "127.0.0.1 - - [10/Mar/2023 12:17:18] \"POST / HTTP/1.1\" 200 -\n"
     ]
    },
    {
     "name": "stdout",
     "output_type": "stream",
     "text": [
      "Download successful\n"
     ]
    }
   ],
   "source": [
    "from flask import Flask, redirect, url_for, render_template, request\n",
    "import downloader\n",
    "\n",
    "\n",
    "app = Flask(__name__)\n",
    "\n",
    "@app.route('/', methods =[\"GET\", \"POST\"])\n",
    "def handle_url():\n",
    "    if request.method == \"POST\":\n",
    "        link = request.form.get('url')\n",
    "        \n",
    "        yt = downloader.Audio_downloader(link) #'https://www.youtube.com/watch?v=Iiil491G9XU' https://www.youtube.com/watch?v=-EB5NhI2RQQ\n",
    "        yt.Download_Audio()\n",
    "        #path = yt.title+\".mp4\"\n",
    "        #clip = Clip(path, 40, 60)\n",
    "    return render_template('index.html')\n",
    "\n",
    "if __name__ == \"__main__\":\n",
    "    app.run() "
   ]
  }
 ],
 "metadata": {
  "kernelspec": {
   "display_name": ".venv",
   "language": "python",
   "name": "python3"
  },
  "language_info": {
   "codemirror_mode": {
    "name": "ipython",
    "version": 3
   },
   "file_extension": ".py",
   "mimetype": "text/x-python",
   "name": "python",
   "nbconvert_exporter": "python",
   "pygments_lexer": "ipython3",
   "version": "3.7.9"
  },
  "vscode": {
   "interpreter": {
    "hash": "fe89d7565eb91a7e817ed9e5752a42b5c0c82f6d4087a2d94c3133977debdabf"
   }
  }
 },
 "nbformat": 4,
 "nbformat_minor": 5
}
